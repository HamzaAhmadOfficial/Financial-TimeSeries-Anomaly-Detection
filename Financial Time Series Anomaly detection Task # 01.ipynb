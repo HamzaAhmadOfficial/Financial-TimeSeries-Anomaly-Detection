{
 "cells": [
  {
   "cell_type": "markdown",
   "id": "8246da5b",
   "metadata": {},
   "source": [
    "# Import Libraries"
   ]
  },
  {
   "cell_type": "code",
   "execution_count": 1,
   "id": "8fb15c75",
   "metadata": {},
   "outputs": [],
   "source": [
    "import pandas as pd\n",
    "import numpy as np\n",
    "import matplotlib.pyplot as plt\n",
    "import seaborn as sns\n",
    "from sklearn.preprocessing import StandardScaler\n",
    "from sklearn.ensemble import IsolationForest\n",
    "from sklearn.cluster import DBSCAN\n",
    "from prophet import Prophet"
   ]
  },
  {
   "cell_type": "markdown",
   "id": "1384e2c8",
   "metadata": {},
   "source": [
    "# Data Preprocessing"
   ]
  },
  {
   "cell_type": "code",
   "execution_count": 2,
   "id": "ad409f2d",
   "metadata": {},
   "outputs": [],
   "source": [
    "# Load the data\n",
    "data = pd.read_excel('yahoo_data.xlsx')"
   ]
  },
  {
   "cell_type": "code",
   "execution_count": 3,
   "id": "80f82cc7",
   "metadata": {},
   "outputs": [
    {
     "data": {
      "application/vnd.microsoft.datawrangler.viewer.v0+json": {
       "columns": [
        {
         "name": "index",
         "rawType": "int64",
         "type": "integer"
        },
        {
         "name": "Date",
         "rawType": "object",
         "type": "string"
        },
        {
         "name": "Open",
         "rawType": "float64",
         "type": "float"
        },
        {
         "name": "High",
         "rawType": "float64",
         "type": "float"
        },
        {
         "name": "Low",
         "rawType": "float64",
         "type": "float"
        },
        {
         "name": "Close*",
         "rawType": "float64",
         "type": "float"
        },
        {
         "name": "Adj Close**",
         "rawType": "float64",
         "type": "float"
        },
        {
         "name": "Volume",
         "rawType": "int64",
         "type": "integer"
        }
       ],
       "conversionMethod": "pd.DataFrame",
       "ref": "d8f27dd5-4d0b-4281-bb74-b3e501bc5d16",
       "rows": [
        [
         "0",
         "Apr 28, 2023",
         "33797.43",
         "34104.56",
         "33728.4",
         "34098.16",
         "34098.16",
         "354310000"
        ],
        [
         "1",
         "Apr 27, 2023",
         "33381.66",
         "33859.75",
         "33374.65",
         "33826.16",
         "33826.16",
         "343240000"
        ],
        [
         "2",
         "Apr 26, 2023",
         "33596.34",
         "33645.83",
         "33235.85",
         "33301.87",
         "33301.87",
         "321170000"
        ],
        [
         "3",
         "Apr 25, 2023",
         "33828.34",
         "33875.49",
         "33525.39",
         "33530.83",
         "33530.83",
         "297880000"
        ],
        [
         "4",
         "Apr 24, 2023",
         "33805.04",
         "33891.15",
         "33726.09",
         "33875.4",
         "33875.4",
         "252020000"
        ]
       ],
       "shape": {
        "columns": 7,
        "rows": 5
       }
      },
      "text/html": [
       "<div>\n",
       "<style scoped>\n",
       "    .dataframe tbody tr th:only-of-type {\n",
       "        vertical-align: middle;\n",
       "    }\n",
       "\n",
       "    .dataframe tbody tr th {\n",
       "        vertical-align: top;\n",
       "    }\n",
       "\n",
       "    .dataframe thead th {\n",
       "        text-align: right;\n",
       "    }\n",
       "</style>\n",
       "<table border=\"1\" class=\"dataframe\">\n",
       "  <thead>\n",
       "    <tr style=\"text-align: right;\">\n",
       "      <th></th>\n",
       "      <th>Date</th>\n",
       "      <th>Open</th>\n",
       "      <th>High</th>\n",
       "      <th>Low</th>\n",
       "      <th>Close*</th>\n",
       "      <th>Adj Close**</th>\n",
       "      <th>Volume</th>\n",
       "    </tr>\n",
       "  </thead>\n",
       "  <tbody>\n",
       "    <tr>\n",
       "      <th>0</th>\n",
       "      <td>Apr 28, 2023</td>\n",
       "      <td>33797.43</td>\n",
       "      <td>34104.56</td>\n",
       "      <td>33728.40</td>\n",
       "      <td>34098.16</td>\n",
       "      <td>34098.16</td>\n",
       "      <td>354310000</td>\n",
       "    </tr>\n",
       "    <tr>\n",
       "      <th>1</th>\n",
       "      <td>Apr 27, 2023</td>\n",
       "      <td>33381.66</td>\n",
       "      <td>33859.75</td>\n",
       "      <td>33374.65</td>\n",
       "      <td>33826.16</td>\n",
       "      <td>33826.16</td>\n",
       "      <td>343240000</td>\n",
       "    </tr>\n",
       "    <tr>\n",
       "      <th>2</th>\n",
       "      <td>Apr 26, 2023</td>\n",
       "      <td>33596.34</td>\n",
       "      <td>33645.83</td>\n",
       "      <td>33235.85</td>\n",
       "      <td>33301.87</td>\n",
       "      <td>33301.87</td>\n",
       "      <td>321170000</td>\n",
       "    </tr>\n",
       "    <tr>\n",
       "      <th>3</th>\n",
       "      <td>Apr 25, 2023</td>\n",
       "      <td>33828.34</td>\n",
       "      <td>33875.49</td>\n",
       "      <td>33525.39</td>\n",
       "      <td>33530.83</td>\n",
       "      <td>33530.83</td>\n",
       "      <td>297880000</td>\n",
       "    </tr>\n",
       "    <tr>\n",
       "      <th>4</th>\n",
       "      <td>Apr 24, 2023</td>\n",
       "      <td>33805.04</td>\n",
       "      <td>33891.15</td>\n",
       "      <td>33726.09</td>\n",
       "      <td>33875.40</td>\n",
       "      <td>33875.40</td>\n",
       "      <td>252020000</td>\n",
       "    </tr>\n",
       "  </tbody>\n",
       "</table>\n",
       "</div>"
      ],
      "text/plain": [
       "           Date      Open      High       Low    Close*  Adj Close**  \\\n",
       "0  Apr 28, 2023  33797.43  34104.56  33728.40  34098.16     34098.16   \n",
       "1  Apr 27, 2023  33381.66  33859.75  33374.65  33826.16     33826.16   \n",
       "2  Apr 26, 2023  33596.34  33645.83  33235.85  33301.87     33301.87   \n",
       "3  Apr 25, 2023  33828.34  33875.49  33525.39  33530.83     33530.83   \n",
       "4  Apr 24, 2023  33805.04  33891.15  33726.09  33875.40     33875.40   \n",
       "\n",
       "      Volume  \n",
       "0  354310000  \n",
       "1  343240000  \n",
       "2  321170000  \n",
       "3  297880000  \n",
       "4  252020000  "
      ]
     },
     "execution_count": 3,
     "metadata": {},
     "output_type": "execute_result"
    }
   ],
   "source": [
    "data.head()"
   ]
  },
  {
   "cell_type": "code",
   "execution_count": 4,
   "id": "5e6d0c45",
   "metadata": {},
   "outputs": [
    {
     "name": "stdout",
     "output_type": "stream",
     "text": [
      "<class 'pandas.core.frame.DataFrame'>\n",
      "RangeIndex: 1258 entries, 0 to 1257\n",
      "Data columns (total 7 columns):\n",
      " #   Column       Non-Null Count  Dtype  \n",
      "---  ------       --------------  -----  \n",
      " 0   Date         1258 non-null   object \n",
      " 1   Open         1258 non-null   float64\n",
      " 2   High         1258 non-null   float64\n",
      " 3   Low          1258 non-null   float64\n",
      " 4   Close*       1258 non-null   float64\n",
      " 5   Adj Close**  1258 non-null   float64\n",
      " 6   Volume       1258 non-null   int64  \n",
      "dtypes: float64(5), int64(1), object(1)\n",
      "memory usage: 68.9+ KB\n"
     ]
    }
   ],
   "source": [
    "data.info()"
   ]
  },
  {
   "cell_type": "code",
   "execution_count": 6,
   "id": "cda7f1e7",
   "metadata": {},
   "outputs": [
    {
     "data": {
      "text/plain": [
       "Date           0\n",
       "Open           0\n",
       "High           0\n",
       "Low            0\n",
       "Close*         0\n",
       "Adj Close**    0\n",
       "Volume         0\n",
       "dtype: int64"
      ]
     },
     "execution_count": 6,
     "metadata": {},
     "output_type": "execute_result"
    }
   ],
   "source": [
    "data.isnull().sum()"
   ]
  },
  {
   "cell_type": "code",
   "execution_count": 7,
   "id": "bb85b9fa",
   "metadata": {},
   "outputs": [
    {
     "data": {
      "application/vnd.microsoft.datawrangler.viewer.v0+json": {
       "columns": [
        {
         "name": "index",
         "rawType": "object",
         "type": "string"
        },
        {
         "name": "Open",
         "rawType": "float64",
         "type": "float"
        },
        {
         "name": "High",
         "rawType": "float64",
         "type": "float"
        },
        {
         "name": "Low",
         "rawType": "float64",
         "type": "float"
        },
        {
         "name": "Close*",
         "rawType": "float64",
         "type": "float"
        },
        {
         "name": "Adj Close**",
         "rawType": "float64",
         "type": "float"
        },
        {
         "name": "Volume",
         "rawType": "float64",
         "type": "float"
        }
       ],
       "conversionMethod": "pd.DataFrame",
       "ref": "e52e15c9-3712-41e2-a90a-07677f08436d",
       "rows": [
        [
         "count",
         "1258.0",
         "1258.0",
         "1258.0",
         "1258.0",
         "1258.0",
         "1258.0"
        ],
        [
         "mean",
         "29595.823044515102",
         "29776.94573926868",
         "29402.43222575517",
         "29599.361677265497",
         "29599.361677265497",
         "345063624.80127186"
        ],
        [
         "std",
         "4006.0782986825816",
         "4009.007573468592",
         "4004.9490659512085",
         "4007.468821516462",
         "4007.468821516462",
         "106914195.13691708"
        ],
        [
         "min",
         "19028.36",
         "19121.01",
         "18213.65",
         "18591.93",
         "18591.93",
         "86150000.0"
        ],
        [
         "25%",
         "26041.267499999998",
         "26163.155",
         "25877.8725",
         "26027.12",
         "26027.12",
         "277312500.0"
        ],
        [
         "50%",
         "29201.41",
         "29335.684999999998",
         "28996.5",
         "29199.46",
         "29199.46",
         "324725000.0"
        ],
        [
         "75%",
         "33604.0275",
         "33825.445",
         "33346.8275",
         "33600.3425",
         "33600.3425",
         "387510000.0"
        ],
        [
         "max",
         "36722.6",
         "36952.65",
         "36636.0",
         "36799.65",
         "36799.65",
         "915990000.0"
        ]
       ],
       "shape": {
        "columns": 6,
        "rows": 8
       }
      },
      "text/html": [
       "<div>\n",
       "<style scoped>\n",
       "    .dataframe tbody tr th:only-of-type {\n",
       "        vertical-align: middle;\n",
       "    }\n",
       "\n",
       "    .dataframe tbody tr th {\n",
       "        vertical-align: top;\n",
       "    }\n",
       "\n",
       "    .dataframe thead th {\n",
       "        text-align: right;\n",
       "    }\n",
       "</style>\n",
       "<table border=\"1\" class=\"dataframe\">\n",
       "  <thead>\n",
       "    <tr style=\"text-align: right;\">\n",
       "      <th></th>\n",
       "      <th>Open</th>\n",
       "      <th>High</th>\n",
       "      <th>Low</th>\n",
       "      <th>Close*</th>\n",
       "      <th>Adj Close**</th>\n",
       "      <th>Volume</th>\n",
       "    </tr>\n",
       "  </thead>\n",
       "  <tbody>\n",
       "    <tr>\n",
       "      <th>count</th>\n",
       "      <td>1258.000000</td>\n",
       "      <td>1258.000000</td>\n",
       "      <td>1258.000000</td>\n",
       "      <td>1258.000000</td>\n",
       "      <td>1258.000000</td>\n",
       "      <td>1.258000e+03</td>\n",
       "    </tr>\n",
       "    <tr>\n",
       "      <th>mean</th>\n",
       "      <td>29595.823045</td>\n",
       "      <td>29776.945739</td>\n",
       "      <td>29402.432226</td>\n",
       "      <td>29599.361677</td>\n",
       "      <td>29599.361677</td>\n",
       "      <td>3.450636e+08</td>\n",
       "    </tr>\n",
       "    <tr>\n",
       "      <th>std</th>\n",
       "      <td>4006.078299</td>\n",
       "      <td>4009.007573</td>\n",
       "      <td>4004.949066</td>\n",
       "      <td>4007.468822</td>\n",
       "      <td>4007.468822</td>\n",
       "      <td>1.069142e+08</td>\n",
       "    </tr>\n",
       "    <tr>\n",
       "      <th>min</th>\n",
       "      <td>19028.360000</td>\n",
       "      <td>19121.010000</td>\n",
       "      <td>18213.650000</td>\n",
       "      <td>18591.930000</td>\n",
       "      <td>18591.930000</td>\n",
       "      <td>8.615000e+07</td>\n",
       "    </tr>\n",
       "    <tr>\n",
       "      <th>25%</th>\n",
       "      <td>26041.267500</td>\n",
       "      <td>26163.155000</td>\n",
       "      <td>25877.872500</td>\n",
       "      <td>26027.120000</td>\n",
       "      <td>26027.120000</td>\n",
       "      <td>2.773125e+08</td>\n",
       "    </tr>\n",
       "    <tr>\n",
       "      <th>50%</th>\n",
       "      <td>29201.410000</td>\n",
       "      <td>29335.685000</td>\n",
       "      <td>28996.500000</td>\n",
       "      <td>29199.460000</td>\n",
       "      <td>29199.460000</td>\n",
       "      <td>3.247250e+08</td>\n",
       "    </tr>\n",
       "    <tr>\n",
       "      <th>75%</th>\n",
       "      <td>33604.027500</td>\n",
       "      <td>33825.445000</td>\n",
       "      <td>33346.827500</td>\n",
       "      <td>33600.342500</td>\n",
       "      <td>33600.342500</td>\n",
       "      <td>3.875100e+08</td>\n",
       "    </tr>\n",
       "    <tr>\n",
       "      <th>max</th>\n",
       "      <td>36722.600000</td>\n",
       "      <td>36952.650000</td>\n",
       "      <td>36636.000000</td>\n",
       "      <td>36799.650000</td>\n",
       "      <td>36799.650000</td>\n",
       "      <td>9.159900e+08</td>\n",
       "    </tr>\n",
       "  </tbody>\n",
       "</table>\n",
       "</div>"
      ],
      "text/plain": [
       "               Open          High           Low        Close*   Adj Close**  \\\n",
       "count   1258.000000   1258.000000   1258.000000   1258.000000   1258.000000   \n",
       "mean   29595.823045  29776.945739  29402.432226  29599.361677  29599.361677   \n",
       "std     4006.078299   4009.007573   4004.949066   4007.468822   4007.468822   \n",
       "min    19028.360000  19121.010000  18213.650000  18591.930000  18591.930000   \n",
       "25%    26041.267500  26163.155000  25877.872500  26027.120000  26027.120000   \n",
       "50%    29201.410000  29335.685000  28996.500000  29199.460000  29199.460000   \n",
       "75%    33604.027500  33825.445000  33346.827500  33600.342500  33600.342500   \n",
       "max    36722.600000  36952.650000  36636.000000  36799.650000  36799.650000   \n",
       "\n",
       "             Volume  \n",
       "count  1.258000e+03  \n",
       "mean   3.450636e+08  \n",
       "std    1.069142e+08  \n",
       "min    8.615000e+07  \n",
       "25%    2.773125e+08  \n",
       "50%    3.247250e+08  \n",
       "75%    3.875100e+08  \n",
       "max    9.159900e+08  "
      ]
     },
     "execution_count": 7,
     "metadata": {},
     "output_type": "execute_result"
    }
   ],
   "source": [
    "data.describe()"
   ]
  },
  {
   "cell_type": "code",
   "execution_count": 8,
   "id": "2f36e026",
   "metadata": {},
   "outputs": [],
   "source": [
    "# Rename column for consistency\n",
    "data.columns = ['Date', 'open', 'High', 'Low', 'Close', 'Adj_Close', 'Volume']"
   ]
  },
  {
   "cell_type": "code",
   "execution_count": 10,
   "id": "b7aeaccf",
   "metadata": {},
   "outputs": [],
   "source": [
    "# Convert Date to datetime \n",
    "data['Date'] = pd.to_datetime(data['Date'])"
   ]
  },
  {
   "cell_type": "code",
   "execution_count": 12,
   "id": "12934e9d",
   "metadata": {},
   "outputs": [],
   "source": [
    "# Sort Data By Date\n",
    "data = data.sort_values(\"Date\").reset_index(drop=True)"
   ]
  },
  {
   "cell_type": "code",
   "execution_count": 13,
   "id": "0d55eda6",
   "metadata": {},
   "outputs": [],
   "source": [
    "# Convert numbers to float\n",
    "numeric_cols = ['open', 'High', 'Low', 'Close', 'Adj_Close', 'Volume']\n",
    "data[numeric_cols] = data[numeric_cols].replace(',', '', regex=True).astype(float)"
   ]
  },
  {
   "cell_type": "code",
   "execution_count": null,
   "id": "f62c5358",
   "metadata": {},
   "outputs": [
    {
     "data": {
      "application/vnd.microsoft.datawrangler.viewer.v0+json": {
       "columns": [
        {
         "name": "index",
         "rawType": "int64",
         "type": "integer"
        },
        {
         "name": "Date",
         "rawType": "datetime64[ns]",
         "type": "datetime"
        },
        {
         "name": "open",
         "rawType": "float64",
         "type": "float"
        },
        {
         "name": "High",
         "rawType": "float64",
         "type": "float"
        },
        {
         "name": "Low",
         "rawType": "float64",
         "type": "float"
        },
        {
         "name": "Close",
         "rawType": "float64",
         "type": "float"
        },
        {
         "name": "Adj_Close",
         "rawType": "float64",
         "type": "float"
        },
        {
         "name": "Volume",
         "rawType": "float64",
         "type": "float"
        }
       ],
       "conversionMethod": "pd.DataFrame",
       "ref": "13594bd6-9dfd-40ad-8f74-22a5a9f48019",
       "rows": [
        [
         "0",
         "2018-05-01 00:00:00",
         "24117.29",
         "24117.29",
         "23808.19",
         "24099.05",
         "24099.05",
         "380070000.0"
        ],
        [
         "1",
         "2018-05-02 00:00:00",
         "24097.63",
         "24185.52",
         "23886.3",
         "23924.98",
         "23924.98",
         "385350000.0"
        ],
        [
         "2",
         "2018-05-03 00:00:00",
         "23836.23",
         "23996.15",
         "23531.31",
         "23930.15",
         "23930.15",
         "389240000.0"
        ],
        [
         "3",
         "2018-05-04 00:00:00",
         "23865.22",
         "24333.35",
         "23778.87",
         "24262.51",
         "24262.51",
         "329480000.0"
        ],
        [
         "4",
         "2018-05-07 00:00:00",
         "24317.66",
         "24479.45",
         "24263.42",
         "24357.32",
         "24357.32",
         "307670000.0"
        ]
       ],
       "shape": {
        "columns": 7,
        "rows": 5
       }
      },
      "text/html": [
       "<div>\n",
       "<style scoped>\n",
       "    .dataframe tbody tr th:only-of-type {\n",
       "        vertical-align: middle;\n",
       "    }\n",
       "\n",
       "    .dataframe tbody tr th {\n",
       "        vertical-align: top;\n",
       "    }\n",
       "\n",
       "    .dataframe thead th {\n",
       "        text-align: right;\n",
       "    }\n",
       "</style>\n",
       "<table border=\"1\" class=\"dataframe\">\n",
       "  <thead>\n",
       "    <tr style=\"text-align: right;\">\n",
       "      <th></th>\n",
       "      <th>Date</th>\n",
       "      <th>open</th>\n",
       "      <th>High</th>\n",
       "      <th>Low</th>\n",
       "      <th>Close</th>\n",
       "      <th>Adj_Close</th>\n",
       "      <th>Volume</th>\n",
       "    </tr>\n",
       "  </thead>\n",
       "  <tbody>\n",
       "    <tr>\n",
       "      <th>0</th>\n",
       "      <td>2018-05-01</td>\n",
       "      <td>24117.29</td>\n",
       "      <td>24117.29</td>\n",
       "      <td>23808.19</td>\n",
       "      <td>24099.05</td>\n",
       "      <td>24099.05</td>\n",
       "      <td>380070000.0</td>\n",
       "    </tr>\n",
       "    <tr>\n",
       "      <th>1</th>\n",
       "      <td>2018-05-02</td>\n",
       "      <td>24097.63</td>\n",
       "      <td>24185.52</td>\n",
       "      <td>23886.30</td>\n",
       "      <td>23924.98</td>\n",
       "      <td>23924.98</td>\n",
       "      <td>385350000.0</td>\n",
       "    </tr>\n",
       "    <tr>\n",
       "      <th>2</th>\n",
       "      <td>2018-05-03</td>\n",
       "      <td>23836.23</td>\n",
       "      <td>23996.15</td>\n",
       "      <td>23531.31</td>\n",
       "      <td>23930.15</td>\n",
       "      <td>23930.15</td>\n",
       "      <td>389240000.0</td>\n",
       "    </tr>\n",
       "    <tr>\n",
       "      <th>3</th>\n",
       "      <td>2018-05-04</td>\n",
       "      <td>23865.22</td>\n",
       "      <td>24333.35</td>\n",
       "      <td>23778.87</td>\n",
       "      <td>24262.51</td>\n",
       "      <td>24262.51</td>\n",
       "      <td>329480000.0</td>\n",
       "    </tr>\n",
       "    <tr>\n",
       "      <th>4</th>\n",
       "      <td>2018-05-07</td>\n",
       "      <td>24317.66</td>\n",
       "      <td>24479.45</td>\n",
       "      <td>24263.42</td>\n",
       "      <td>24357.32</td>\n",
       "      <td>24357.32</td>\n",
       "      <td>307670000.0</td>\n",
       "    </tr>\n",
       "  </tbody>\n",
       "</table>\n",
       "</div>"
      ],
      "text/plain": [
       "        Date      open      High       Low     Close  Adj_Close       Volume\n",
       "0 2018-05-01  24117.29  24117.29  23808.19  24099.05   24099.05  380070000.0\n",
       "1 2018-05-02  24097.63  24185.52  23886.30  23924.98   23924.98  385350000.0\n",
       "2 2018-05-03  23836.23  23996.15  23531.31  23930.15   23930.15  389240000.0\n",
       "3 2018-05-04  23865.22  24333.35  23778.87  24262.51   24262.51  329480000.0\n",
       "4 2018-05-07  24317.66  24479.45  24263.42  24357.32   24357.32  307670000.0"
      ]
     },
     "execution_count": 14,
     "metadata": {},
     "output_type": "execute_result"
    }
   ],
   "source": []
  },
  {
   "cell_type": "markdown",
   "id": "f312c273",
   "metadata": {},
   "source": [
    "# Financial Indicators"
   ]
  },
  {
   "cell_type": "code",
   "execution_count": 15,
   "id": "7305acc0",
   "metadata": {},
   "outputs": [],
   "source": [
    "# simple Moving Average (SMA)\n",
    "data['SMA_20'] = data['Close'].rolling(window=20).mean()"
   ]
  },
  {
   "cell_type": "code",
   "execution_count": 16,
   "id": "136b8a9f",
   "metadata": {},
   "outputs": [],
   "source": [
    "# Exponential Moving Average (EMA)\n",
    "data['EMA_20'] = data['Close'].ewm(span=20, adjust=False).mean()"
   ]
  },
  {
   "cell_type": "code",
   "execution_count": 17,
   "id": "5956c630",
   "metadata": {},
   "outputs": [],
   "source": [
    "# Bollinger Bonds\n",
    "data['BB_uperr'] = data['SMA_20'] + 2 * data['Close'].rolling(window=20).std()\n",
    "data['BB_lower'] = data['SMA_20'] - 2 * data['Close'].rolling(window=20).std()"
   ]
  },
  {
   "cell_type": "code",
   "execution_count": 18,
   "id": "9ba1ff59",
   "metadata": {},
   "outputs": [],
   "source": [
    "# RSI (Relative Strength Index)\n",
    "delta = data['Close'].diff()\n",
    "gain = (delta.where(delta > 0, 0)).rolling(window=14).mean()\n",
    "loss = (-delta.where(delta < 0, 0)).rolling(window=14).mean()\n",
    "rs = gain / loss\n",
    "data['RSI'] = 100 - (100 / (1 + rs))"
   ]
  },
  {
   "cell_type": "markdown",
   "id": "fc8a7841",
   "metadata": {},
   "source": [
    "# Anomaly Detection (Isolation Forest or DBSCAN)"
   ]
  },
  {
   "cell_type": "markdown",
   "id": "34487aed",
   "metadata": {},
   "source": [
    "1. Using Isolation Forest: "
   ]
  },
  {
   "cell_type": "code",
   "execution_count": 21,
   "id": "251049d3",
   "metadata": {},
   "outputs": [],
   "source": [
    "# Use Selected features\n",
    "features = data[['Close', 'SMA_20', 'EMA_20', 'RSI']].dropna()"
   ]
  },
  {
   "cell_type": "code",
   "execution_count": 23,
   "id": "1d3f90ab",
   "metadata": {},
   "outputs": [],
   "source": [
    "# Fit Isolation Forest\n",
    "iso_forest = IsolationForest(contamination=0.01, random_state=42)\n",
    "data.loc[features.index, 'anomaly_iso'] = iso_forest.fit_predict(features)"
   ]
  },
  {
   "cell_type": "code",
   "execution_count": 24,
   "id": "9d24073b",
   "metadata": {},
   "outputs": [],
   "source": [
    "# Label Anomalies\n",
    "data['anomaly_iso'] = data['anomaly_iso'].map({1: 0, -1: 1})"
   ]
  },
  {
   "cell_type": "markdown",
   "id": "5d3bf569",
   "metadata": {},
   "source": [
    "2. Using DBSCAN:"
   ]
  }
 ],
 "metadata": {
  "kernelspec": {
   "display_name": "Python 3",
   "language": "python",
   "name": "python3"
  },
  "language_info": {
   "codemirror_mode": {
    "name": "ipython",
    "version": 3
   },
   "file_extension": ".py",
   "mimetype": "text/x-python",
   "name": "python",
   "nbconvert_exporter": "python",
   "pygments_lexer": "ipython3",
   "version": "3.12.5"
  }
 },
 "nbformat": 4,
 "nbformat_minor": 5
}
